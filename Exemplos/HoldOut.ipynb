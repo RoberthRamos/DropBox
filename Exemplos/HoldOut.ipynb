{
 "cells": [
  {
   "cell_type": "code",
   "execution_count": 1,
   "metadata": {
    "collapsed": true
   },
   "outputs": [],
   "source": [
    "import pandas as pd\n",
    "import numpy as np\n",
    "from sklearn.model_selection import train_test_split\n",
    "from sklearn.naive_bayes import GaussianNB\n",
    "from sklearn.metrics import accuracy_score"
   ]
  },
  {
   "cell_type": "code",
   "execution_count": 2,
   "metadata": {
    "collapsed": true
   },
   "outputs": [],
   "source": [
    "data_q3 = pd.read_csv(\"class01.csv\", sep=',', encoding='utf-8')"
   ]
  },
  {
   "cell_type": "code",
   "execution_count": 3,
   "metadata": {},
   "outputs": [
    {
     "name": "stdout",
     "output_type": "stream",
     "text": [
      "         x0        x1        x2        x3        x4        x5        x6  \\\n",
      "0  1.162990 -0.831971 -0.185266  0.441240  0.033957  1.432988 -1.171483   \n",
      "1 -1.750976 -0.516614 -0.761588  1.692347 -1.579436  0.581782 -0.950953   \n",
      "2  0.304635  0.972369  0.202908 -0.607761  0.487088  0.205173  0.815216   \n",
      "3 -1.667576 -0.262639 -1.513473 -1.060125 -0.456209  1.782235  1.034366   \n",
      "4 -0.820670  0.390631  0.761628 -0.945407 -0.871003 -0.142293 -1.522004   \n",
      "\n",
      "         x7        x8        x9   ...         x91       x92       x93  \\\n",
      "0  0.203248  1.900889  1.119174   ...   -1.139286 -0.608239 -0.107224   \n",
      "1  0.381426 -1.370027  0.943387   ...   -0.280502 -0.306014  0.554926   \n",
      "2  0.491880  0.904705  1.167017   ...   -0.134901  0.291496 -1.038477   \n",
      "3  0.115217 -0.182177 -1.007720   ...    1.203067  0.082647 -1.625862   \n",
      "4  0.141962  0.091094 -0.860818   ...    1.955541  0.079445  0.528177   \n",
      "\n",
      "        x94       x95       x96       x97       x98       x99  target  \n",
      "0  1.700972 -0.698151  0.520004 -0.450784 -0.187694 -0.538329     1.0  \n",
      "1 -1.402866 -0.776478  1.181890 -0.066449 -0.802430  1.587229     0.0  \n",
      "2  1.297057 -1.296614 -1.109806 -0.003495 -0.149940  0.539892     8.0  \n",
      "3 -0.154116  0.478483 -1.465050 -0.450510 -0.757631 -3.184493     7.0  \n",
      "4  1.522003  1.849394 -1.194590  1.023761 -0.335391  2.448868     3.0  \n",
      "\n",
      "[5 rows x 101 columns]\n",
      "(1000, 101)\n"
     ]
    }
   ],
   "source": [
    "print(data_q3.head())\n",
    "print(data_q3.shape)"
   ]
  },
  {
   "cell_type": "code",
   "execution_count": 4,
   "metadata": {},
   "outputs": [
    {
     "name": "stderr",
     "output_type": "stream",
     "text": [
      "C:\\Users\\Adelino\\Anaconda3\\lib\\site-packages\\sklearn\\model_selection\\_split.py:2026: FutureWarning: From version 0.21, test_size will always complement train_size unless both are specified.\n",
      "  FutureWarning)\n"
     ]
    }
   ],
   "source": [
    "# Separando a lista de colunas de features e de target\n",
    "feature_cols = list(data_q3.columns[:-1])\n",
    "target_col = data_q3.columns[-1] \n",
    "\n",
    "# Separando os dados em atributos e variáveis-alvo (X_all e y_all, respectivamente)\n",
    "X_all = data_q3[feature_cols]\n",
    "y_all = data_q3[target_col]\n",
    "\n",
    "# Separando os dados entre treino e teste, considerando HOLD OUT com as primeiras 350 linhas para treino e as demais para teste\n",
    "X_train, X_test, y_train, y_test = train_test_split(X_all, y_all, train_size=0.35, shuffle=False)"
   ]
  },
  {
   "cell_type": "code",
   "execution_count": 5,
   "metadata": {},
   "outputs": [
    {
     "name": "stdout",
     "output_type": "stream",
     "text": [
      "         x0        x1        x2        x3        x4        x5        x6  \\\n",
      "0  1.162990 -0.831971 -0.185266  0.441240  0.033957  1.432988 -1.171483   \n",
      "1 -1.750976 -0.516614 -0.761588  1.692347 -1.579436  0.581782 -0.950953   \n",
      "2  0.304635  0.972369  0.202908 -0.607761  0.487088  0.205173  0.815216   \n",
      "3 -1.667576 -0.262639 -1.513473 -1.060125 -0.456209  1.782235  1.034366   \n",
      "4 -0.820670  0.390631  0.761628 -0.945407 -0.871003 -0.142293 -1.522004   \n",
      "\n",
      "         x7        x8        x9    ...          x90       x91       x92  \\\n",
      "0  0.203248  1.900889  1.119174    ...    -1.130117 -1.139286 -0.608239   \n",
      "1  0.381426 -1.370027  0.943387    ...     1.119688 -0.280502 -0.306014   \n",
      "2  0.491880  0.904705  1.167017    ...     0.580494 -0.134901  0.291496   \n",
      "3  0.115217 -0.182177 -1.007720    ...     2.236321  1.203067  0.082647   \n",
      "4  0.141962  0.091094 -0.860818    ...    -1.891811  1.955541  0.079445   \n",
      "\n",
      "        x93       x94       x95       x96       x97       x98       x99  \n",
      "0 -0.107224  1.700972 -0.698151  0.520004 -0.450784 -0.187694 -0.538329  \n",
      "1  0.554926 -1.402866 -0.776478  1.181890 -0.066449 -0.802430  1.587229  \n",
      "2 -1.038477  1.297057 -1.296614 -1.109806 -0.003495 -0.149940  0.539892  \n",
      "3 -1.625862 -0.154116  0.478483 -1.465050 -0.450510 -0.757631 -3.184493  \n",
      "4  0.528177  1.522003  1.849394 -1.194590  1.023761 -0.335391  2.448868  \n",
      "\n",
      "[5 rows x 100 columns]\n",
      "         x0        x1        x2        x3        x4        x5        x6  \\\n",
      "0  1.162990 -0.831971 -0.185266  0.441240  0.033957  1.432988 -1.171483   \n",
      "1 -1.750976 -0.516614 -0.761588  1.692347 -1.579436  0.581782 -0.950953   \n",
      "2  0.304635  0.972369  0.202908 -0.607761  0.487088  0.205173  0.815216   \n",
      "3 -1.667576 -0.262639 -1.513473 -1.060125 -0.456209  1.782235  1.034366   \n",
      "4 -0.820670  0.390631  0.761628 -0.945407 -0.871003 -0.142293 -1.522004   \n",
      "\n",
      "         x7        x8        x9    ...          x90       x91       x92  \\\n",
      "0  0.203248  1.900889  1.119174    ...    -1.130117 -1.139286 -0.608239   \n",
      "1  0.381426 -1.370027  0.943387    ...     1.119688 -0.280502 -0.306014   \n",
      "2  0.491880  0.904705  1.167017    ...     0.580494 -0.134901  0.291496   \n",
      "3  0.115217 -0.182177 -1.007720    ...     2.236321  1.203067  0.082647   \n",
      "4  0.141962  0.091094 -0.860818    ...    -1.891811  1.955541  0.079445   \n",
      "\n",
      "        x93       x94       x95       x96       x97       x98       x99  \n",
      "0 -0.107224  1.700972 -0.698151  0.520004 -0.450784 -0.187694 -0.538329  \n",
      "1  0.554926 -1.402866 -0.776478  1.181890 -0.066449 -0.802430  1.587229  \n",
      "2 -1.038477  1.297057 -1.296614 -1.109806 -0.003495 -0.149940  0.539892  \n",
      "3 -1.625862 -0.154116  0.478483 -1.465050 -0.450510 -0.757631 -3.184493  \n",
      "4  0.528177  1.522003  1.849394 -1.194590  1.023761 -0.335391  2.448868  \n",
      "\n",
      "[5 rows x 100 columns]\n"
     ]
    }
   ],
   "source": [
    "print(X_all.head())\n",
    "print(X_train.head())"
   ]
  },
  {
   "cell_type": "code",
   "execution_count": 6,
   "metadata": {},
   "outputs": [
    {
     "name": "stdout",
     "output_type": "stream",
     "text": [
      "0    1.0\n",
      "1    0.0\n",
      "2    8.0\n",
      "3    7.0\n",
      "4    3.0\n",
      "Name: target, dtype: float64\n",
      "0    1.0\n",
      "1    0.0\n",
      "2    8.0\n",
      "3    7.0\n",
      "4    3.0\n",
      "Name: target, dtype: float64\n"
     ]
    }
   ],
   "source": [
    "print(y_all.head())\n",
    "print(y_train.head())"
   ]
  },
  {
   "cell_type": "code",
   "execution_count": 7,
   "metadata": {},
   "outputs": [
    {
     "name": "stdout",
     "output_type": "stream",
     "text": [
      "Tamanho do X_train: 350\n",
      "Tamanho do X_test: 650\n",
      "Tamanho do y_train: 350\n",
      "Tamanho do y_test: 650\n"
     ]
    }
   ],
   "source": [
    "print(\"Tamanho do X_train: {}\".format(X_train.shape[0]))\n",
    "print(\"Tamanho do X_test: {}\".format(X_test.shape[0]))\n",
    "print(\"Tamanho do y_train: {}\".format(y_train.shape[0]))\n",
    "print(\"Tamanho do y_test: {}\".format(y_test.shape[0]))"
   ]
  },
  {
   "cell_type": "code",
   "execution_count": 8,
   "metadata": {},
   "outputs": [
    {
     "data": {
      "text/plain": [
       "GaussianNB(priors=None)"
      ]
     },
     "execution_count": 8,
     "metadata": {},
     "output_type": "execute_result"
    }
   ],
   "source": [
    "clf = GaussianNB()\n",
    "clf.fit(X_train, y_train)"
   ]
  },
  {
   "cell_type": "code",
   "execution_count": 9,
   "metadata": {
    "collapsed": true
   },
   "outputs": [],
   "source": [
    "y_train_predict = clf.predict(X_train)\n",
    "y_test_predict = clf.predict(X_test)"
   ]
  },
  {
   "cell_type": "code",
   "execution_count": 10,
   "metadata": {},
   "outputs": [
    {
     "name": "stdout",
     "output_type": "stream",
     "text": [
      "\n",
      "Resposta 3:\n",
      "Holdout (utilize para treino as 350 primeiras linhas e para validação as demais). Qual o valor da acurácia a base de treino? Qual o valor da acurácia a base de validação?\n",
      "\n",
      "O valor da acuracia da base de Treino, para HOLD OUT é: 0.76\n",
      "O valor da acuracia da base de Teste, para HOLD OUT é: 0.6276923076923077\n"
     ]
    }
   ],
   "source": [
    "acuracia_train = accuracy_score(y_train, y_train_predict)\n",
    "acuracia_test = accuracy_score(y_test, y_test_predict)\n",
    "\n",
    "print(\"\\nResposta 3:\\nHoldout (utilize para treino as 350 primeiras linhas e para validação as demais). Qual o valor da acurácia a base de treino? Qual o valor da acurácia a base de validação?\\n\")\n",
    "\n",
    "print(\"O valor da acuracia da base de Treino, para HOLD OUT é: {}\".format(acuracia_train))\n",
    "print(\"O valor da acuracia da base de Teste, para HOLD OUT é: {}\".format(acuracia_test))"
   ]
  },
  {
   "cell_type": "code",
   "execution_count": 11,
   "metadata": {},
   "outputs": [
    {
     "name": "stdout",
     "output_type": "stream",
     "text": [
      "\n",
      "Resposta 3:\n",
      "Leave-One-Out. Qual o valor da acurácia média para a base de treino? Qual o valor da acurácia média para a base de validação? \n",
      "\n",
      "O valor da acuracia da base de Treino, para LEAVE ONE OUT é: 0.6892802802802754\n",
      "O valor da acuracia da base de Teste, para LEAVE ONE OUT é: 0.642\n"
     ]
    }
   ],
   "source": [
    "# Separando os dados entre treino e teste, considerando LOO (Leave one out)\n",
    "# Leave One Out é o mesmo que K-fold com k = numero de registros na base\n",
    "from sklearn.model_selection import LeaveOneOut\n",
    "loo = LeaveOneOut()\n",
    "\n",
    "acuracias = pd.DataFrame(columns=['Acuracia_treino', 'Acuracia_teste'])\n",
    "\n",
    "for train_index, test_index in loo.split(X_all):\n",
    "    X_train, X_test = X_all.loc[train_index], X_all.loc[test_index]\n",
    "    y_train, y_test = y_all.loc[train_index], y_all.loc[test_index]\n",
    "    clf.fit(X_train, y_train) #treino\n",
    "    y_train_predict = clf.predict(X_train)\n",
    "    y_test_predict = clf.predict(X_test)\n",
    "    acuracias.loc[len(acuracias)] = [accuracy_score(y_train, y_train_predict),\n",
    "                                    accuracy_score(y_test, y_test_predict)]\n",
    "\n",
    "acuracia_train = acuracias['Acuracia_treino'].mean()\n",
    "acuracia_test = acuracias['Acuracia_teste'].mean()\n",
    "\n",
    "print(\"\\nResposta 3:\\nLeave-One-Out. Qual o valor da acurácia média para a base de treino? Qual o valor da acurácia média para a base de validação? \\n\")\n",
    "\n",
    "print(\"O valor da acuracia da base de Treino, para LEAVE ONE OUT é: {}\".format(acuracia_train))\n",
    "print(\"O valor da acuracia da base de Teste, para LEAVE ONE OUT é: {}\".format(acuracia_test))"
   ]
  },
  {
   "cell_type": "code",
   "execution_count": null,
   "metadata": {
    "collapsed": true
   },
   "outputs": [],
   "source": []
  }
 ],
 "metadata": {
  "kernelspec": {
   "display_name": "Python 2",
   "language": "python",
   "name": "python2"
  },
  "language_info": {
   "codemirror_mode": {
    "name": "ipython",
    "version": 2
   },
   "file_extension": ".py",
   "mimetype": "text/x-python",
   "name": "python",
   "nbconvert_exporter": "python",
   "pygments_lexer": "ipython2",
   "version": "2.7.14"
  }
 },
 "nbformat": 4,
 "nbformat_minor": 2
}
