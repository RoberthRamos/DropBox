{
 "cells": [
  {
   "cell_type": "code",
   "execution_count": 1,
   "metadata": {
    "collapsed": true
   },
   "outputs": [],
   "source": [
    "import pandas as pd\n",
    "import numpy as np\n",
    "from sklearn.linear_model import Lasso\n",
    "from sklearn.metrics import mean_squared_error"
   ]
  },
  {
   "cell_type": "code",
   "execution_count": 2,
   "metadata": {
    "collapsed": true
   },
   "outputs": [],
   "source": [
    "data_q6 = pd.read_csv(\"reg01.csv\", sep = ',', encoding = 'utf-8')"
   ]
  },
  {
   "cell_type": "code",
   "execution_count": 3,
   "metadata": {},
   "outputs": [
    {
     "name": "stdout",
     "output_type": "stream",
     "text": [
      "         x0        x1        x2        x3        x4        x5        x6  \\\n",
      "0 -0.640731  0.677929 -0.285153  0.469127  1.629361 -0.407575  0.677929   \n",
      "1 -1.257229  0.199883  0.369755  0.905828  2.199284  0.407064  0.199883   \n",
      "2 -1.351330 -0.159821 -0.667650 -0.067187  1.309160 -0.702359 -0.159821   \n",
      "3 -2.432787 -0.996849 -0.704290 -0.750186  1.066865 -0.082292 -0.996849   \n",
      "4 -1.475213 -0.318454 -0.682221 -0.151922  1.148624 -0.583869 -0.318454   \n",
      "\n",
      "         x7        x8        x9      target  \n",
      "0  0.781634 -0.132065 -0.125852  238.342700  \n",
      "1 -0.276165  0.136314 -0.835977   30.823609  \n",
      "2 -0.133427 -0.683428 -1.016574 -135.707090  \n",
      "3 -1.860141 -1.151661 -1.850721 -579.983211  \n",
      "4 -0.621999 -0.619677 -1.134553 -250.729762  \n",
      "(1000, 11)\n"
     ]
    }
   ],
   "source": [
    "print(data_q6.head())\n",
    "print(data_q6.shape)"
   ]
  },
  {
   "cell_type": "code",
   "execution_count": 4,
   "metadata": {
    "collapsed": true
   },
   "outputs": [],
   "source": [
    "# Separando a lista de colunas de features e de target\n",
    "feature_cols = list(data_q6.columns[:-1])\n",
    "target_col = data_q6.columns[-1] \n",
    "\n",
    "# Separando os dados em atributos e variáveis-alvo (X_all e y_all, respectivamente)\n",
    "X_all = data_q6[feature_cols]\n",
    "y_all = data_q6[target_col]"
   ]
  },
  {
   "cell_type": "code",
   "execution_count": 6,
   "metadata": {
    "collapsed": true
   },
   "outputs": [],
   "source": [
    "clf = Lasso() #alpha = 1 por padrão"
   ]
  },
  {
   "cell_type": "code",
   "execution_count": 7,
   "metadata": {},
   "outputs": [
    {
     "name": "stdout",
     "output_type": "stream",
     "text": [
      "\n",
      "Resposta 6:\n",
      "Leave-One-Out. Qual o valor médio do Root Mean Squared Error (RMSE) para a base de treino? Qual o valor médio do RMSE para a base de validação?\n",
      "\n",
      "O valor do RMSE da base de Treino, para LEAVE ONE OUT é: 19.220259837710355\n",
      "O valor da RMSE da base de Teste, para LEAVE ONE OUT é: 15.46521879170242\n"
     ]
    }
   ],
   "source": [
    "# Separando os dados entre treino e teste, considerando LOO (Leave one out)\n",
    "from sklearn.model_selection import LeaveOneOut\n",
    "loo = LeaveOneOut()\n",
    "\n",
    "rmses = pd.DataFrame(columns=['RMSE_treino', 'RMSE_teste'])\n",
    "\n",
    "for train_index, test_index in loo.split(X_all):\n",
    "    X_train, X_test = X_all.loc[train_index], X_all.loc[test_index]\n",
    "    y_train, y_test = y_all.loc[train_index], y_all.loc[test_index]\n",
    "    clf.fit(X_train, y_train) #treino\n",
    "    y_train_predict = clf.predict(X_train)\n",
    "    y_test_predict = clf.predict(X_test)\n",
    "    rmses.loc[len(rmses)] = [np.sqrt(mean_squared_error(y_train, y_train_predict)),\n",
    "                             np.sqrt(mean_squared_error(y_test, y_test_predict))]\n",
    "\n",
    "rmse_train = rmses['RMSE_treino'].mean()\n",
    "rmse_test = rmses['RMSE_teste'].mean()\n",
    "\n",
    "print(\"\\nResposta 6:\\nLeave-One-Out. Qual o valor médio do Root Mean Squared Error (RMSE) para a base de treino? Qual o valor médio do RMSE para a base de validação?\\n\")\n",
    "\n",
    "print(\"O valor do RMSE da base de Treino, para LEAVE ONE OUT é: {}\".format(rmse_train))\n",
    "print(\"O valor da RMSE da base de Teste, para LEAVE ONE OUT é: {}\".format(rmse_test))"
   ]
  },
  {
   "cell_type": "code",
   "execution_count": null,
   "metadata": {
    "collapsed": true
   },
   "outputs": [],
   "source": []
  }
 ],
 "metadata": {
  "kernelspec": {
   "display_name": "Python 3",
   "language": "python",
   "name": "python3"
  },
  "language_info": {
   "codemirror_mode": {
    "name": "ipython",
    "version": 3
   },
   "file_extension": ".py",
   "mimetype": "text/x-python",
   "name": "python",
   "nbconvert_exporter": "python",
   "pygments_lexer": "ipython3",
   "version": "3.6.3"
  }
 },
 "nbformat": 4,
 "nbformat_minor": 2
}
