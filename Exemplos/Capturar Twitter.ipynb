{
 "cells": [
  {
   "cell_type": "code",
   "execution_count": 2,
   "metadata": {
    "collapsed": true
   },
   "outputs": [],
   "source": [
    "#https://apps.twitter.com/app/14711331/keys\n",
    "#https://ronanlopes.me/coletor-de-tweets-em-python-com-o-tweepy/\n",
    "import tweepy\n",
    "import pandas as pd\n",
    "import datetime"
   ]
  },
  {
   "cell_type": "code",
   "execution_count": 2,
   "metadata": {
    "collapsed": true
   },
   "outputs": [],
   "source": [
    "#Autenticações\n",
    "consumer_key = 'S8E2HsQ1R1DEEHyMgMFjldmia'\n",
    "consumer_secret = 'oLvuhhn0AEJeg4yYqmH7j7k4JsejjkVWNNDcs6jrzg3nbeFTyB'\n",
    "access_token = '4109026133-RGrHa95QhYuc9VCEhPxfqOY2dtPqUSoYwAWexHO'\n",
    "access_token_secret = 'Grcm4ZQpKt4pPGcoKptvczPlwBQpBYpwyr6OLwh0T2xxg'\n",
    " \n",
    "auth = tweepy.OAuthHandler(consumer_key, consumer_secret)\n",
    "auth.set_access_token(access_token, access_token_secret)\n",
    "api = tweepy.API(auth)"
   ]
  },
  {
   "cell_type": "code",
   "execution_count": 3,
   "metadata": {
    "collapsed": true
   },
   "outputs": [],
   "source": [
    "res = pd.DataFrame(columns=['USR', 'TWEET', 'LANG', 'DATE', 'CLAS'])"
   ]
  },
  {
   "cell_type": "code",
   "execution_count": 4,
   "metadata": {
    "collapsed": true
   },
   "outputs": [],
   "source": [
    "#Coletando tweets\n",
    "class CustomStreamListener(tweepy.StreamListener):\n",
    " \n",
    "  def on_status(self, tweet):\n",
    "    try:\n",
    "        res.loc[len(res)] = [str(unicode(tweet.author.screen_name).encode(\"utf-8\")),\n",
    "                             str(unicode(tweet.text).encode(\"utf-8\")),\n",
    "                             str(unicode(tweet.lang).encode(\"utf-8\")),\n",
    "                             str(unicode(tweet.created_at).encode(\"utf-8\")),\n",
    "                            \"NEUTRO\"]\n",
    "        #print tweet\n",
    "        if len(res.loc[res['LANG']=='pt']) < 201:\n",
    "            if str(unicode(tweet.lang).encode(\"utf-8\"))=='pt':\n",
    "                print len(res.loc[res['LANG']=='pt'])\n",
    "            return True\n",
    "        else: return False\n",
    "        \n",
    "    except:\n",
    "        return True\n",
    " \n",
    "  def on_error(self, status_code):\n",
    "      print \"Erro com o código:\", status_code\n",
    "      return True\n",
    " \n",
    "  def on_timeout(self):\n",
    "      print \"Tempo esgotado!\"\n",
    "      return True"
   ]
  },
  {
   "cell_type": "code",
   "execution_count": 5,
   "metadata": {
    "scrolled": true
   },
   "outputs": [
    {
     "name": "stdout",
     "output_type": "stream",
     "text": [
      "1\n",
      "2\n",
      "3\n",
      "4\n",
      "5\n",
      "6\n",
      "7\n",
      "8\n",
      "9\n",
      "10\n",
      "11\n",
      "12\n",
      "13\n",
      "14\n",
      "15\n",
      "16\n",
      "17\n",
      "18\n",
      "19\n",
      "20\n",
      "21\n",
      "22\n",
      "23\n",
      "24\n",
      "25\n",
      "26\n",
      "27\n",
      "28\n",
      "29\n",
      "30\n",
      "31\n",
      "32\n",
      "33\n",
      "34\n",
      "35\n",
      "36\n",
      "37\n",
      "38\n",
      "39\n",
      "40\n",
      "41\n",
      "42\n",
      "43\n",
      "44\n",
      "45\n",
      "46\n",
      "47\n",
      "48\n",
      "49\n",
      "50\n",
      "51\n",
      "52\n",
      "53\n",
      "54\n",
      "55\n",
      "56\n",
      "57\n",
      "58\n",
      "59\n",
      "60\n",
      "61\n",
      "62\n",
      "63\n",
      "64\n",
      "65\n",
      "66\n",
      "67\n",
      "68\n",
      "69\n",
      "70\n",
      "71\n",
      "72\n",
      "73\n",
      "74\n",
      "75\n",
      "76\n",
      "77\n",
      "78\n",
      "79\n",
      "80\n",
      "81\n",
      "82\n",
      "83\n",
      "84\n",
      "85\n",
      "86\n",
      "87\n",
      "88\n",
      "89\n",
      "90\n",
      "91\n",
      "92\n",
      "93\n",
      "94\n",
      "95\n",
      "96\n",
      "97\n",
      "98\n",
      "99\n",
      "100\n",
      "101\n",
      "102\n",
      "103\n",
      "104\n",
      "105\n",
      "106\n",
      "107\n",
      "108\n",
      "109\n",
      "110\n",
      "111\n",
      "112\n",
      "113\n",
      "114\n",
      "115\n",
      "116\n",
      "117\n",
      "118\n",
      "119\n",
      "120\n",
      "121\n",
      "122\n",
      "123\n",
      "124\n",
      "125\n",
      "126\n",
      "127\n",
      "128\n",
      "129\n",
      "130\n",
      "131\n",
      "132\n",
      "133\n",
      "134\n",
      "135\n",
      "136\n",
      "137\n",
      "138\n",
      "139\n",
      "140\n",
      "141\n",
      "142\n",
      "143\n",
      "144\n",
      "145\n",
      "146\n",
      "147\n",
      "148\n",
      "149\n",
      "150\n",
      "151\n",
      "152\n",
      "153\n",
      "154\n",
      "155\n",
      "156\n",
      "157\n",
      "158\n",
      "159\n",
      "160\n",
      "161\n",
      "162\n",
      "163\n",
      "164\n",
      "165\n",
      "166\n",
      "167\n",
      "168\n",
      "169\n",
      "170\n",
      "171\n",
      "172\n",
      "173\n",
      "174\n",
      "175\n",
      "176\n",
      "177\n",
      "178\n",
      "179\n",
      "180\n",
      "181\n",
      "182\n",
      "183\n",
      "184\n",
      "185\n",
      "186\n",
      "187\n",
      "188\n",
      "189\n",
      "190\n",
      "191\n",
      "192\n",
      "193\n",
      "194\n",
      "195\n",
      "196\n",
      "197\n",
      "198\n",
      "199\n",
      "200\n"
     ]
    }
   ],
   "source": [
    "# Pegando a consulta por parâmetro\n",
    "consulta = [u'bitcoin']\n",
    "\n",
    "#Criando o coletor com timeout de 60 seg\n",
    "try:\n",
    "    streaming_api = tweepy.streaming.Stream(auth, CustomStreamListener(), timeout=60)\n",
    "    streaming_api.filter(follow=None, track=consulta, languages=[\"pt\", \"en\"])\n",
    "    \n",
    "except:\n",
    "    print \"ERRO\""
   ]
  },
  {
   "cell_type": "code",
   "execution_count": 6,
   "metadata": {
    "collapsed": true
   },
   "outputs": [],
   "source": [
    "now = datetime.datetime.now()"
   ]
  },
  {
   "cell_type": "code",
   "execution_count": 7,
   "metadata": {
    "collapsed": true
   },
   "outputs": [],
   "source": [
    "res.to_csv('C:\\Users\\Adelino\\Desktop\\Roberth\\Cursos\\Nanodegree-Machine_Learning\\Trabalhos\\Projetos\\ProjetoFinal\\Saidas\\saida'+now.strftime(\"_%Y-%m-%d_%Hh%Mmin\")+'.csv', sep=';', index=False, encoding='utf-8')"
   ]
  },
  {
   "cell_type": "code",
   "execution_count": 11,
   "metadata": {
    "collapsed": true
   },
   "outputs": [],
   "source": [
    "data = pd.read_csv('C:\\Users\\Adelino\\Desktop\\Roberth\\Cursos\\Nanodegree-Machine_Learning\\Trabalhos\\Projetos\\ProjetoFinal\\Saidas\\saida_final.csv', sep=';', encoding='utf-8')"
   ]
  },
  {
   "cell_type": "code",
   "execution_count": 12,
   "metadata": {
    "collapsed": true
   },
   "outputs": [],
   "source": [
    "writer = pd.ExcelWriter('C:\\Users\\Adelino\\Desktop\\Roberth\\Cursos\\Nanodegree-Machine_Learning\\Trabalhos\\Projetos\\ProjetoFinal\\Saidas\\saida_final.xlsx')\n",
    "data.to_excel(writer,'Sheet1')\n",
    "writer.save()"
   ]
  },
  {
   "cell_type": "code",
   "execution_count": 5,
   "metadata": {},
   "outputs": [
    {
     "data": {
      "text/plain": [
       "USR      271859\n",
       "TWEET    271859\n",
       "LANG     271859\n",
       "DATE     271859\n",
       "CLAS     271859\n",
       "dtype: int64"
      ]
     },
     "execution_count": 5,
     "metadata": {},
     "output_type": "execute_result"
    }
   ],
   "source": [
    "data.count()"
   ]
  },
  {
   "cell_type": "code",
   "execution_count": 6,
   "metadata": {},
   "outputs": [
    {
     "data": {
      "text/plain": [
       "271859"
      ]
     },
     "execution_count": 6,
     "metadata": {},
     "output_type": "execute_result"
    }
   ],
   "source": [
    "data['LANG'].count()"
   ]
  },
  {
   "cell_type": "code",
   "execution_count": 7,
   "metadata": {},
   "outputs": [
    {
     "data": {
      "text/plain": [
       "USR      269810\n",
       "TWEET    269810\n",
       "LANG     269810\n",
       "DATE     269810\n",
       "CLAS     269810\n",
       "dtype: int64"
      ]
     },
     "execution_count": 7,
     "metadata": {},
     "output_type": "execute_result"
    }
   ],
   "source": [
    "data.loc[data['LANG']=='en'].count()"
   ]
  },
  {
   "cell_type": "code",
   "execution_count": 8,
   "metadata": {},
   "outputs": [
    {
     "data": {
      "text/plain": [
       "USR      2049\n",
       "TWEET    2049\n",
       "LANG     2049\n",
       "DATE     2049\n",
       "CLAS     2049\n",
       "dtype: int64"
      ]
     },
     "execution_count": 8,
     "metadata": {},
     "output_type": "execute_result"
    }
   ],
   "source": [
    "data.loc[data['LANG']=='pt'].count()"
   ]
  },
  {
   "cell_type": "code",
   "execution_count": 9,
   "metadata": {
    "collapsed": true
   },
   "outputs": [],
   "source": [
    "pt = data.loc[data['LANG']=='pt']\n",
    "en = data.loc[data['LANG']=='en']"
   ]
  },
  {
   "cell_type": "code",
   "execution_count": 10,
   "metadata": {},
   "outputs": [
    {
     "name": "stdout",
     "output_type": "stream",
     "text": [
      "59     @policiafederal se tivesse usando bitcoin não ...\n",
      "93     Bitcoin: NFL e NBC censuram anúncio de criptom...\n",
      "121    O que gerou o pânico no Bitcoin? Especialista ...\n",
      "277    RT @fabriciorby: pela análise do gráfico, tudo...\n",
      "436    RT @ink_dino: o cachorro ele bota metade do di...\n",
      "Name: TWEET, dtype: object\n",
      "0    @DuongTien990 Bitcoin Gold (BTG) successfully ...\n",
      "1    If you want to earn money by mining bitcoins, ...\n",
      "2    At its peak, Bitcoin was worth over a quarter ...\n",
      "3    🔥 ICO PRE-SALE: 35% BONUS 🔥\\r\\n\\r\\nTOKIA: th...\n",
      "4    @M1Singapore .... I keep receiving spam calls ...\n",
      "Name: TWEET, dtype: object\n"
     ]
    }
   ],
   "source": [
    "print pt['TWEET'].head()\n",
    "print en['TWEET'].head()"
   ]
  },
  {
   "cell_type": "code",
   "execution_count": 13,
   "metadata": {},
   "outputs": [
    {
     "ename": "TypeError",
     "evalue": "translator() got an unexpected keyword argument 'to_lang'",
     "output_type": "error",
     "traceback": [
      "\u001b[1;31m---------------------------------------------------------------------------\u001b[0m",
      "\u001b[1;31mTypeError\u001b[0m                                 Traceback (most recent call last)",
      "\u001b[1;32m<ipython-input-13-ad91cb8e8981>\u001b[0m in \u001b[0;36m<module>\u001b[1;34m()\u001b[0m\n\u001b[0;32m      1\u001b[0m \u001b[1;31m#https://pypi.python.org/pypi/translate\u001b[0m\u001b[1;33m\u001b[0m\u001b[1;33m\u001b[0m\u001b[0m\n\u001b[0;32m      2\u001b[0m \u001b[1;32mfrom\u001b[0m \u001b[0mtranslate\u001b[0m \u001b[1;32mimport\u001b[0m \u001b[0mtranslator\u001b[0m\u001b[1;33m\u001b[0m\u001b[0m\n\u001b[1;32m----> 3\u001b[1;33m \u001b[0mtranslator\u001b[0m \u001b[1;33m=\u001b[0m \u001b[0mtranslator\u001b[0m\u001b[1;33m(\u001b[0m\u001b[0mto_lang\u001b[0m\u001b[1;33m=\u001b[0m\u001b[1;34m\"pt\"\u001b[0m\u001b[1;33m)\u001b[0m\u001b[1;33m\u001b[0m\u001b[0m\n\u001b[0m\u001b[0;32m      4\u001b[0m \u001b[0mtranslation\u001b[0m \u001b[1;33m=\u001b[0m \u001b[0mtranslator\u001b[0m\u001b[1;33m.\u001b[0m\u001b[0mtranslate\u001b[0m\u001b[1;33m(\u001b[0m\u001b[1;34m\"This is a pen.\"\u001b[0m\u001b[1;33m)\u001b[0m\u001b[1;33m\u001b[0m\u001b[0m\n",
      "\u001b[1;32mC:\\Users\\Adelino\\Anaconda2\\lib\\site-packages\\translate\\translator.pyc\u001b[0m in \u001b[0;36mconnection\u001b[1;34m(*args, **kwargs)\u001b[0m\n\u001b[0;32m     44\u001b[0m         \u001b[0msession\u001b[0m\u001b[1;33m.\u001b[0m\u001b[0mmount\u001b[0m\u001b[1;33m(\u001b[0m\u001b[1;34m'https://'\u001b[0m\u001b[1;33m,\u001b[0m \u001b[0mHTTPAdapter\u001b[0m\u001b[1;33m(\u001b[0m\u001b[0mmax_retries\u001b[0m\u001b[1;33m=\u001b[0m\u001b[1;36m2\u001b[0m\u001b[1;33m)\u001b[0m\u001b[1;33m)\u001b[0m\u001b[1;33m\u001b[0m\u001b[0m\n\u001b[0;32m     45\u001b[0m \u001b[1;33m\u001b[0m\u001b[0m\n\u001b[1;32m---> 46\u001b[1;33m         \u001b[0mrequest\u001b[0m  \u001b[1;33m=\u001b[0m \u001b[0mRequest\u001b[0m\u001b[1;33m(\u001b[0m\u001b[1;33m**\u001b[0m\u001b[0minterface\u001b[0m\u001b[1;33m(\u001b[0m\u001b[1;33m*\u001b[0m\u001b[0margs\u001b[0m\u001b[1;33m,\u001b[0m \u001b[1;33m**\u001b[0m\u001b[0mkwargs\u001b[0m\u001b[1;33m)\u001b[0m\u001b[1;33m)\u001b[0m\u001b[1;33m\u001b[0m\u001b[0m\n\u001b[0m\u001b[0;32m     47\u001b[0m         \u001b[0mprepare\u001b[0m  \u001b[1;33m=\u001b[0m \u001b[0msession\u001b[0m\u001b[1;33m.\u001b[0m\u001b[0mprepare_request\u001b[0m\u001b[1;33m(\u001b[0m\u001b[0mrequest\u001b[0m\u001b[1;33m)\u001b[0m\u001b[1;33m\u001b[0m\u001b[0m\n\u001b[0;32m     48\u001b[0m         \u001b[0mresponse\u001b[0m \u001b[1;33m=\u001b[0m \u001b[0msession\u001b[0m\u001b[1;33m.\u001b[0m\u001b[0msend\u001b[0m\u001b[1;33m(\u001b[0m\u001b[0mprepare\u001b[0m\u001b[1;33m,\u001b[0m \u001b[0mverify\u001b[0m\u001b[1;33m=\u001b[0m\u001b[0mTrue\u001b[0m\u001b[1;33m)\u001b[0m\u001b[1;33m\u001b[0m\u001b[0m\n",
      "\u001b[1;31mTypeError\u001b[0m: translator() got an unexpected keyword argument 'to_lang'"
     ]
    }
   ],
   "source": [
    "#https://pypi.python.org/pypi/translate\n",
    "#from translate import translator\n",
    "#translator = translator(to_lang=\"pt\")\n",
    "#translation = translator.translate(\"This is a pen.\")"
   ]
  },
  {
   "cell_type": "code",
   "execution_count": 10,
   "metadata": {},
   "outputs": [
    {
     "ename": "NameError",
     "evalue": "name 'translation' is not defined",
     "output_type": "error",
     "traceback": [
      "\u001b[1;31m---------------------------------------------------------------------------\u001b[0m",
      "\u001b[1;31mNameError\u001b[0m                                 Traceback (most recent call last)",
      "\u001b[1;32m<ipython-input-10-47cd0fd54856>\u001b[0m in \u001b[0;36m<module>\u001b[1;34m()\u001b[0m\n\u001b[1;32m----> 1\u001b[1;33m \u001b[1;32mprint\u001b[0m \u001b[0mtranslation\u001b[0m\u001b[1;33m\u001b[0m\u001b[0m\n\u001b[0m",
      "\u001b[1;31mNameError\u001b[0m: name 'translation' is not defined"
     ]
    }
   ],
   "source": [
    "#print translation"
   ]
  },
  {
   "cell_type": "code",
   "execution_count": 14,
   "metadata": {},
   "outputs": [
    {
     "ename": "HTTPError",
     "evalue": "503 Server Error: Service Unavailable for url: https://translate.google.com/translate_a/single?oe=utf-8&q=Hello+World%21&tl=zh-TW&client=a&sl=en&dt=t&ie=utf-8",
     "output_type": "error",
     "traceback": [
      "\u001b[1;31m---------------------------------------------------------------------------\u001b[0m",
      "\u001b[1;31mHTTPError\u001b[0m                                 Traceback (most recent call last)",
      "\u001b[1;32m<ipython-input-14-ba5cfcdcb9d0>\u001b[0m in \u001b[0;36m<module>\u001b[1;34m()\u001b[0m\n\u001b[0;32m      1\u001b[0m \u001b[1;32mfrom\u001b[0m \u001b[0mtranslate\u001b[0m \u001b[1;32mimport\u001b[0m \u001b[0mtranslator\u001b[0m\u001b[1;33m\u001b[0m\u001b[0m\n\u001b[1;32m----> 2\u001b[1;33m \u001b[0mtranslator\u001b[0m\u001b[1;33m(\u001b[0m\u001b[1;34m'en'\u001b[0m\u001b[1;33m,\u001b[0m \u001b[1;34m'zh-TW'\u001b[0m\u001b[1;33m,\u001b[0m \u001b[1;34m'Hello World!'\u001b[0m\u001b[1;33m)\u001b[0m\u001b[1;33m\u001b[0m\u001b[0m\n\u001b[0m",
      "\u001b[1;32mC:\\Users\\Adelino\\Anaconda2\\lib\\site-packages\\translate\\translator.pyc\u001b[0m in \u001b[0;36mconnection\u001b[1;34m(*args, **kwargs)\u001b[0m\n\u001b[0;32m     49\u001b[0m \u001b[1;33m\u001b[0m\u001b[0m\n\u001b[0;32m     50\u001b[0m         \u001b[1;32mif\u001b[0m \u001b[0mresponse\u001b[0m\u001b[1;33m.\u001b[0m\u001b[0mstatus_code\u001b[0m \u001b[1;33m!=\u001b[0m \u001b[0mrequests\u001b[0m\u001b[1;33m.\u001b[0m\u001b[0mcodes\u001b[0m\u001b[1;33m.\u001b[0m\u001b[0mok\u001b[0m\u001b[1;33m:\u001b[0m\u001b[1;33m\u001b[0m\u001b[0m\n\u001b[1;32m---> 51\u001b[1;33m             \u001b[0mresponse\u001b[0m\u001b[1;33m.\u001b[0m\u001b[0mraise_for_status\u001b[0m\u001b[1;33m(\u001b[0m\u001b[1;33m)\u001b[0m\u001b[1;33m\u001b[0m\u001b[0m\n\u001b[0m\u001b[0;32m     52\u001b[0m \u001b[1;33m\u001b[0m\u001b[0m\n\u001b[0;32m     53\u001b[0m         \u001b[0mcleanup\u001b[0m \u001b[1;33m=\u001b[0m \u001b[0mre\u001b[0m\u001b[1;33m.\u001b[0m\u001b[0msubn\u001b[0m\u001b[1;33m(\u001b[0m\u001b[1;34mr',(?=,)'\u001b[0m\u001b[1;33m,\u001b[0m \u001b[1;34m''\u001b[0m\u001b[1;33m,\u001b[0m \u001b[0mresponse\u001b[0m\u001b[1;33m.\u001b[0m\u001b[0mcontent\u001b[0m\u001b[1;33m.\u001b[0m\u001b[0mdecode\u001b[0m\u001b[1;33m(\u001b[0m\u001b[1;34m'utf-8'\u001b[0m\u001b[1;33m)\u001b[0m\u001b[1;33m)\u001b[0m\u001b[1;33m[\u001b[0m\u001b[1;36m0\u001b[0m\u001b[1;33m]\u001b[0m\u001b[1;33m\u001b[0m\u001b[0m\n",
      "\u001b[1;32mC:\\Users\\Adelino\\Anaconda2\\lib\\site-packages\\requests\\models.pyc\u001b[0m in \u001b[0;36mraise_for_status\u001b[1;34m(self)\u001b[0m\n\u001b[0;32m    933\u001b[0m \u001b[1;33m\u001b[0m\u001b[0m\n\u001b[0;32m    934\u001b[0m         \u001b[1;32mif\u001b[0m \u001b[0mhttp_error_msg\u001b[0m\u001b[1;33m:\u001b[0m\u001b[1;33m\u001b[0m\u001b[0m\n\u001b[1;32m--> 935\u001b[1;33m             \u001b[1;32mraise\u001b[0m \u001b[0mHTTPError\u001b[0m\u001b[1;33m(\u001b[0m\u001b[0mhttp_error_msg\u001b[0m\u001b[1;33m,\u001b[0m \u001b[0mresponse\u001b[0m\u001b[1;33m=\u001b[0m\u001b[0mself\u001b[0m\u001b[1;33m)\u001b[0m\u001b[1;33m\u001b[0m\u001b[0m\n\u001b[0m\u001b[0;32m    936\u001b[0m \u001b[1;33m\u001b[0m\u001b[0m\n\u001b[0;32m    937\u001b[0m     \u001b[1;32mdef\u001b[0m \u001b[0mclose\u001b[0m\u001b[1;33m(\u001b[0m\u001b[0mself\u001b[0m\u001b[1;33m)\u001b[0m\u001b[1;33m:\u001b[0m\u001b[1;33m\u001b[0m\u001b[0m\n",
      "\u001b[1;31mHTTPError\u001b[0m: 503 Server Error: Service Unavailable for url: https://translate.google.com/translate_a/single?oe=utf-8&q=Hello+World%21&tl=zh-TW&client=a&sl=en&dt=t&ie=utf-8"
     ]
    }
   ],
   "source": [
    "#from translate import translator\n",
    "#translator('en', 'zh-TW', 'Hello World!')"
   ]
  },
  {
   "cell_type": "code",
   "execution_count": 17,
   "metadata": {},
   "outputs": [
    {
     "name": "stdout",
     "output_type": "stream",
     "text": [
      "RT @FUTEMENTALES: Boto o pal\r\n",
      "Compra e venda de bitcoin https://t.co/FIYwMa9qmu\n",
      "RT @marcurelio: Como é definido o valor do Bitcoin https://t.co/FKVfed3cRV\n",
      "RT @FUTEMENTALES: Boto o pal\r\n",
      "Compra e venda de bitcoin https://t.co/FIYwMa9qmu\n",
      "Não sei pq lembrei de ti @mobilon https://t.co/tHsKBFxHqa\n",
      "RT @FUTEMENTALES: Boto o pal\r\n",
      "Compra e venda de bitcoin https://t.co/FIYwMa9qmu\n",
      "RT @FUTEMENTALES: Boto o pal\r\n",
      "Compra e venda de bitcoin https://t.co/FIYwMa9qmu\n",
      "RT @FUTEMENTALES: Boto o pal\r\n",
      "Compra e venda de bitcoin https://t.co/FIYwMa9qmu\n",
      "RT @FUTEMENTALES: Boto o pal\r\n",
      "Compra e venda de bitcoin https://t.co/FIYwMa9qmu\n",
      "RT @FUTEMENTALES: Boto o pal\r\n",
      "Compra e venda de bitcoin https://t.co/FIYwMa9qmu\n",
      "RT @FUTEMENTALES: Boto o pal\r\n",
      "Compra e venda de bitcoin https://t.co/FIYwMa9qmu\n",
      "RT @marcurelio: Como é definido o valor do Bitcoin https://t.co/FKVfed3cRV\n",
      "RT @FUTEMENTALES: Boto o pal\r\n",
      "Compra e venda de bitcoin https://t.co/FIYwMa9qmu\n",
      "RT @FUTEMENTALES: Boto o pal\r\n",
      "Compra e venda de bitcoin https://t.co/FIYwMa9qmu\n",
      "RT @FUTEMENTALES: Boto o pal\r\n",
      "Compra e venda de bitcoin https://t.co/FIYwMa9qmu\n",
      "O ouro está prendendo touros em ciclo diário (NYSEArca gld, NYSEArca iau, NYSEArca sgol, NYSEArca UGL, NYSEArca SLV… https://t.co/Y3p7hvLSGN\n",
      "Ouro Prata Worlds: Os metais preciosos não estão tornando mais fácil para os investidores aqui segurança bitcoin. A… https://t.co/SKdGTCD56r\n",
      "RT @FUTEMENTALES: Boto o pal\r\n",
      "Compra e venda de bitcoin https://t.co/FIYwMa9qmu\n",
      "RT @FUTEMENTALES: Boto o pal\r\n",
      "Compra e venda de bitcoin https://t.co/FIYwMa9qmu\n",
      "RT @limaalef: COMPRA E VENDA DE bitcoin https://t.co/yFpNj9SA6B\n",
      "RT @FUTEMENTALES: Boto o pal\r\n",
      "Compra e venda de bitcoin https://t.co/FIYwMa9qmu\n",
      "RT @FUTEMENTALES: Boto o pal\r\n",
      "Compra e venda de bitcoin https://t.co/FIYwMa9qmu\n",
      "RT @marcurelio: Como é definido o valor do Bitcoin https://t.co/FKVfed3cRV\n",
      "RT @FUTEMENTALES: Boto o pal\r\n",
      "Compra e venda de bitcoin https://t.co/FIYwMa9qmu\n",
      "RT @fernandocluiz: Olha lá! Mas a resposta é facil. Brasileiro nao quer investir. Quer ficar rico. E ficar rico tem a ver com jeitinho, ace…\n",
      "RT @FUTEMENTALES: Boto o pal\r\n",
      "Compra e venda de bitcoin https://t.co/FIYwMa9qmu\n",
      "RT @marcurelio: Como é definido o valor do Bitcoin https://t.co/FKVfed3cRV\n",
      "RT @FUTEMENTALES: Boto o pal\r\n",
      "Compra e venda de bitcoin https://t.co/FIYwMa9qmu\n",
      "RT @FUTEMENTALES: Boto o pal\r\n",
      "Compra e venda de bitcoin https://t.co/FIYwMa9qmu\n",
      "RT @FUTEMENTALES: Boto o pal\r\n",
      "Compra e venda de bitcoin https://t.co/FIYwMa9qmu\n",
      "RT @FUTEMENTALES: Boto o pal\r\n",
      "Compra e venda de bitcoin https://t.co/FIYwMa9qmu\n",
      "O ouro é até este ano não apenas em dólares, mas em todas as principais moedas do software gerador de bitcoin orácu… https://t.co/JkTsvcs1qS\n",
      "RT @FUTEMENTALES: Boto o pal\r\n",
      "Compra e venda de bitcoin https://t.co/FIYwMa9qmu\n",
      "RT @FUTEMENTALES: Boto o pal\r\n",
      "Compra e venda de bitcoin https://t.co/FIYwMa9qmu\n",
      "RT @marcurelio: Como é definido o valor do Bitcoin https://t.co/FKVfed3cRV\n",
      "Muito além do Bitcoin: conheça 10 criptomoedas que competem no mercado https://t.co/ZTrQ5Kfg8w @entornoi\n",
      "RT @FUTEMENTALES: Boto o pal\r\n",
      "Compra e venda de bitcoin https://t.co/FIYwMa9qmu\n",
      "@manoelguedes @foxbitcoin Com certeza não projetaram pra haver espera. Ninguém só imaginou que haveria tanta demand… https://t.co/otocSSkim8\n",
      "RT @FUTEMENTALES: Boto o pal\r\n",
      "Compra e venda de bitcoin https://t.co/FIYwMa9qmu\n",
      "RT @marcurelio: Como é definido o valor do Bitcoin https://t.co/FKVfed3cRV\n",
      "RT @marcurelio: Como é definido o valor do Bitcoin https://t.co/FKVfed3cRV\n",
      "RT @marcurelio: Como é definido o valor do Bitcoin https://t.co/FKVfed3cRV\n",
      "RT @marcurelio: Como é definido o valor do Bitcoin https://t.co/FKVfed3cRV\n",
      "RT @marcurelio: Como é definido o valor do Bitcoin https://t.co/FKVfed3cRV\n",
      "RT @limaalef: COMPRA E VENDA DE bitcoin https://t.co/yFpNj9SA6B\n",
      "RT @FUTEMENTALES: Boto o pal\r\n",
      "Compra e venda de bitcoin https://t.co/FIYwMa9qmu\n",
      "RT @FUTEMENTALES: Boto o pal\r\n",
      "Compra e venda de bitcoin https://t.co/FIYwMa9qmu\n",
      "RT @FUTEMENTALES: Boto o pal\r\n",
      "Compra e venda de bitcoin https://t.co/FIYwMa9qmu\n",
      "Bitcoin é a moeda mais segura. Voce já tem as suas? Veja: https://t.co/TMxHKlX8xF #DomingoDeTremuraSDV https://t.co/iwTR0qUZp7\n",
      "RT @FUTEMENTALES: Boto o pal\r\n",
      "Compra e venda de bitcoin https://t.co/FIYwMa9qmu\n",
      "@manoelcampos @foxbitcoin Não cara. Veja bem: desde o início, independentemente de qualquer coisa, Bitcoin foi cria… https://t.co/iTGnWTpoGD\n",
      "RT @marcurelio: Como é definido o valor do Bitcoin https://t.co/FKVfed3cRV\n",
      "RT @FUTEMENTALES: Boto o pal\r\n",
      "Compra e venda de bitcoin https://t.co/FIYwMa9qmu\n",
      "RT @FUTEMENTALES: Boto o pal\r\n",
      "Compra e venda de bitcoin https://t.co/FIYwMa9qmu\n",
      "RT @FUTEMENTALES: Boto o pal\r\n",
      "Compra e venda de bitcoin https://t.co/FIYwMa9qmu\n",
      "RT @FUTEMENTALES: Boto o pal\r\n",
      "Compra e venda de bitcoin https://t.co/FIYwMa9qmu\n",
      "New video (TOKENS CRYPTERIUM - COMO VERIFICAR SALDO) has been published on https://t.co/QU0itN8C5b\r\n",
      " Date: 2018-01-2… https://t.co/huw9OF8y15\n",
      "RT @FUTEMENTALES: Boto o pal\r\n",
      "Compra e venda de bitcoin https://t.co/FIYwMa9qmu\n",
      "@cnt_pr Por isso que você deveria investir em Bitcoin, a moeda virtual\n",
      "RT @marcurelio: Como é definido o valor do Bitcoin https://t.co/FKVfed3cRV\n",
      "RT @FUTEMENTALES: Boto o pal\r\n",
      "Compra e venda de bitcoin https://t.co/FIYwMa9qmu\n",
      "@manoelcampos @foxbitcoin Logo: com certeza projetaram para haver espera de 10 minutos, em média, por confirmações… https://t.co/siDJjBTmiK\n",
      "RT @FUTEMENTALES: Boto o pal\r\n",
      "Compra e venda de bitcoin https://t.co/FIYwMa9qmu\n",
      "RT @FUTEMENTALES: Boto o pal\r\n",
      "Compra e venda de bitcoin https://t.co/FIYwMa9qmu\n",
      "RT @FUTEMENTALES: Boto o pal\r\n",
      "Compra e venda de bitcoin https://t.co/FIYwMa9qmu\n",
      "o projeto é minerar bitcoin\n",
      "RT @FUTEMENTALES: Boto o pal\r\n",
      "Compra e venda de bitcoin https://t.co/FIYwMa9qmu\n",
      "RT @FUTEMENTALES: Boto o pal\r\n",
      "Compra e venda de bitcoin https://t.co/FIYwMa9qmu\n",
      "RT @FUTEMENTALES: Boto o pal\r\n",
      "Compra e venda de bitcoin https://t.co/FIYwMa9qmu\n",
      "RT @FUTEMENTALES: Boto o pal\r\n",
      "Compra e venda de bitcoin https://t.co/FIYwMa9qmu\n",
      "RT @marcurelio: Como é definido o valor do Bitcoin https://t.co/FKVfed3cRV\n",
      "RT @FUTEMENTALES: Boto o pal\r\n",
      "Compra e venda de bitcoin https://t.co/FIYwMa9qmu\n",
      "RT @marcurelio: Como é definido o valor do Bitcoin https://t.co/FKVfed3cRV\n",
      "Agora o Bitcoin deve crescer e atingir entre 500 bilhões a 1 trilhão de dolares americanos em 2018, porém os... https://t.co/2Pdnn97h1K\n",
      "RT @marcurelio: Como é definido o valor do Bitcoin https://t.co/FKVfed3cRV\n",
      "RT @Ricamconsult: Brasileiro é um povo engraçado. Não investe em Bolsa porque acha arriscado demais, mas investe em Bitcoin, que é muito ma…\n",
      "RT @FUTEMENTALES: Boto o pal\r\n",
      "Compra e venda de bitcoin https://t.co/FIYwMa9qmu\n",
      "RT @FUTEMENTALES: Boto o pal\r\n",
      "Compra e venda de bitcoin https://t.co/FIYwMa9qmu\n",
      "Como Depositar BitCoin Na Binance | COMPRAR E VENDER CRIPTOMOEDAS: https://t.co/D1AV3lkq7s via @YouTube\n",
      "Agora o Bitcoin deve crescer e atingir entre 500 bilhões a 1 trilhão de dolares americanos em 2018, porém os... https://t.co/DdswYsGoSL\n",
      "RT @FUTEMENTALES: Boto o pal\r\n",
      "Compra e venda de bitcoin https://t.co/FIYwMa9qmu\n",
      "RT @FUTEMENTALES: Boto o pal\r\n",
      "Compra e venda de bitcoin https://t.co/FIYwMa9qmu\n",
      "RT @FUTEMENTALES: Boto o pal\r\n",
      "Compra e venda de bitcoin https://t.co/FIYwMa9qmu\n",
      "RT @FUTEMENTALES: Boto o pal\r\n",
      "Compra e venda de bitcoin https://t.co/FIYwMa9qmu\n",
      "RT @marcurelio: Como é definido o valor do Bitcoin https://t.co/FKVfed3cRV\n",
      "RT @marcurelio: Como é definido o valor do Bitcoin https://t.co/FKVfed3cRV\n",
      "RT @Ricamconsult: Brasileiro é um povo engraçado. Não investe em Bolsa porque acha arriscado demais, mas investe em Bitcoin, que é muito ma…\n",
      "RT @FUTEMENTALES: Boto o pal\r\n",
      "Compra e venda de bitcoin https://t.co/FIYwMa9qmu\n",
      "RT @FUTEMENTALES: Boto o pal\r\n",
      "Compra e venda de bitcoin https://t.co/FIYwMa9qmu\n",
      "RT @FUTEMENTALES: Boto o pal\r\n",
      "Compra e venda de bitcoin https://t.co/FIYwMa9qmu\n",
      "RT @FUTEMENTALES: Boto o pal\r\n",
      "Compra e venda de bitcoin https://t.co/FIYwMa9qmu\n",
      "RT @FUTEMENTALES: Boto o pal\r\n",
      "Compra e venda de bitcoin https://t.co/FIYwMa9qmu\n",
      "RT @marcurelio: Como é definido o valor do Bitcoin https://t.co/FKVfed3cRV\n",
      "RT @Ricamconsult: Brasileiro é um povo engraçado. Não investe em Bolsa porque acha arriscado demais, mas investe em Bitcoin, que é muito ma…\n",
      "RT @marcurelio: Como é definido o valor do Bitcoin https://t.co/FKVfed3cRV\n",
      "RT @FUTEMENTALES: Boto o pal\r\n",
      "Compra e venda de bitcoin https://t.co/FIYwMa9qmu\n",
      "RT @marcurelio: Como é definido o valor do Bitcoin https://t.co/FKVfed3cRV\n",
      "RT @FUTEMENTALES: Boto o pal\r\n",
      "Compra e venda de bitcoin https://t.co/FIYwMa9qmu\n",
      "RT @marcurelio: Como é definido o valor do Bitcoin https://t.co/FKVfed3cRV\n",
      "RT @marcurelio: Como é definido o valor do Bitcoin https://t.co/FKVfed3cRV\n",
      "RT @Ricamconsult: Brasileiro é um povo engraçado. Não investe em Bolsa porque acha arriscado demais, mas investe em Bitcoin, que é muito ma…\n",
      "RT @FUTEMENTALES: Boto o pal\r\n",
      "Compra e venda de bitcoin https://t.co/FIYwMa9qmu\n",
      "Lightning Network Está Acontecendo! Item Físico Comprado Em LN\r\n",
      "Now Bitcoin is expected to grow between $ 500... https://t.co/juYkEsagNm\n",
      "RT @FUTEMENTALES: Boto o pal\r\n",
      "Compra e venda de bitcoin https://t.co/FIYwMa9qmu\n",
      "RT @marcurelio: Como é definido o valor do Bitcoin https://t.co/FKVfed3cRV\n",
      "RT @alineinrehab: PARADO 🖐🏻🔫\r\n",
      "\r\n",
      "passa o bitcoin https://t.co/CXqUtVQOEY\n",
      "RT @marcurelio: Como é definido o valor do Bitcoin https://t.co/FKVfed3cRV\n",
      "RT @igorzismo: Tô escrevendo um livro chamado “investi em bitcoin e perdi uma perna” uma linda história de amor com incesto e consumo de te…\n",
      "RT @marcurelio: Como é definido o valor do Bitcoin https://t.co/FKVfed3cRV\n",
      "RT @FUTEMENTALES: Boto o pal\r\n",
      "Compra e venda de bitcoin https://t.co/FIYwMa9qmu\n",
      "RT @marcurelio: Como é definido o valor do Bitcoin https://t.co/FKVfed3cRV\n",
      "RT @FUTEMENTALES: Boto o pal\r\n",
      "Compra e venda de bitcoin https://t.co/FIYwMa9qmu\n",
      "RT @marcurelio: Como é definido o valor do Bitcoin https://t.co/FKVfed3cRV\n",
      "RT @marcurelio: Como é definido o valor do Bitcoin https://t.co/FKVfed3cRV\n",
      "RT @FUTEMENTALES: Boto o pal\r\n",
      "Compra e venda de bitcoin https://t.co/FIYwMa9qmu\n",
      "Lightning Network Está Acontecendo! Item Físico Comprado Em LN\r\n",
      "Now Bitcoin is expected to grow between $ 500... https://t.co/kIS7ze5C6N\n",
      "RT @Ricamconsult: Brasileiro é um povo engraçado. Não investe em Bolsa porque acha arriscado demais, mas investe em Bitcoin, que é muito ma…\n",
      "mercado de ouro 2017 veremos uma repetição de 2015 e 2016 águia de ouro bitcoin recompensa de mineração - https://t.co/Cg6JPEULdD\n",
      "Trade de Bitcoin - O que não te contaram ..: https://t.co/z1Cs6e2jj9 via @YouTube\n",
      "RT @Ricamconsult: Brasileiro é um povo engraçado. Não investe em Bolsa porque acha arriscado demais, mas investe em Bitcoin, que é muito ma…\n",
      "#Bitcoin 🔽 -1.67% \r\n",
      "Ultima: R$ 38760.99  Alta: R$ 42500.00 Baixa: R$ 38600.00\r\n",
      "Fonte: Foxbit\n",
      "Ganhe Satoshis a Cada 5 Minutos BitCoin Cash https://t.co/YWfhCrYa3X\n",
      "1 #bitcoin está custando R$38974.5 na FoxBit. Acesse https://t.co/zbMCM99Z10 e negocie com as menores taxas do Brasil.\n",
      "@manoelcampos @foxbitcoin Não. A dificuldade é ajustada para que os blocos (que é o que confirma as transações) só… https://t.co/AehqHwA912\n",
      "gráficos do mercado de ouro - outubro de 2017 - o www moeda diária bitcoin de login com - https://t.co/NtasoSGFSn\n",
      "RT @FUTEMENTALES: Boto o pal\r\n",
      "Compra e venda de bitcoin https://t.co/FIYwMa9qmu\n",
      "RT @FUTEMENTALES: Boto o pal\r\n",
      "Compra e venda de bitcoin https://t.co/FIYwMa9qmu\n",
      "RT @FUTEMENTALES: Boto o pal\r\n",
      "Compra e venda de bitcoin https://t.co/FIYwMa9qmu\n",
      "RT @marcurelio: Como é definido o valor do Bitcoin https://t.co/FKVfed3cRV\n",
      "Isso é ganância..... https://t.co/fVvbza2ZWy\n",
      "RT @FUTEMENTALES: Boto o pal\r\n",
      "Compra e venda de bitcoin https://t.co/FIYwMa9qmu\n",
      "RT @matheuslaneri: Galera tá levando esse papo de Bitcoin um pouco longe demais https://t.co/M683HgwDRC\n",
      "RT @FUTEMENTALES: Boto o pal\r\n",
      "Compra e venda de bitcoin https://t.co/FIYwMa9qmu\n",
      "Wagstaff e a definição de propriedade resolvido para fins mais-valias fiscais - lexology como fazer bitcoin mineraç… https://t.co/4s3nMs8iPr\n",
      "RT @FUTEMENTALES: Boto o pal\r\n",
      "Compra e venda de bitcoin https://t.co/FIYwMa9qmu\n",
      "O Bitcoin está R$39,351.68 - https://t.co/eXOP4Zey1I\n",
      "O Bitcoin Cash está R$6,064.98 - https://t.co/NRz9fHyZVj\n",
      "RT @Ricamconsult: Brasileiro é um povo engraçado. Não investe em Bolsa porque acha arriscado demais, mas investe em Bitcoin, que é muito ma…\n",
      "neste momento: boto um pal https://t.co/DXihfZsMJX\n",
      "RT @FUTEMENTALES: Boto o pal\r\n",
      "Compra e venda de bitcoin https://t.co/FIYwMa9qmu\n",
      "RT @FUTEMENTALES: Boto o pal\r\n",
      "Compra e venda de bitcoin https://t.co/FIYwMa9qmu\n",
      "New post: BITCOIN E MANIPULAÇÃO ILEGAL DE MERCADOS https://t.co/OQ4TqbgiXk https://t.co/R83CzllbDD\n",
      "RT @FUTEMENTALES: Boto o pal\r\n",
      "Compra e venda de bitcoin https://t.co/FIYwMa9qmu\n",
      "RT @marcurelio: Como é definido o valor do Bitcoin https://t.co/FKVfed3cRV\n",
      "RT @larissardgss: neste momento: boto um pal https://t.co/DXihfZsMJX\n"
     ]
    }
   ],
   "source": [
    "for i in pt['TWEET']:\n",
    "    print i"
   ]
  },
  {
   "cell_type": "code",
   "execution_count": 17,
   "metadata": {
    "collapsed": true
   },
   "outputs": [],
   "source": [
    "import pandas as pd\n",
    "data = pd.read_csv('C:\\Users\\Adelino\\Desktop\\Roberth\\Cursos\\Nanodegree-Machine_Learning\\Trabalhos\\Projetos\\ProjetoFinal\\saida2.csv', sep=';', encoding='utf-8')\n",
    "data2 = pd.read_csv('C:\\Users\\Adelino\\Desktop\\Roberth\\Cursos\\Nanodegree-Machine_Learning\\Trabalhos\\Projetos\\ProjetoFinal\\saida.csv', sep=';', encoding='utf-8')\n",
    "data3 = pd.read_csv('C:\\Users\\Adelino\\Desktop\\Roberth\\Cursos\\Nanodegree-Machine_Learning\\Trabalhos\\Projetos\\ProjetoFinal\\saida3.csv', sep=';', encoding='utf-8')"
   ]
  },
  {
   "cell_type": "code",
   "execution_count": 18,
   "metadata": {
    "collapsed": true
   },
   "outputs": [],
   "source": [
    "primeiro = data.head(10)\n",
    "segundo = data2.head(10)\n",
    "terceiro = data3.head(10)"
   ]
  },
  {
   "cell_type": "code",
   "execution_count": 20,
   "metadata": {},
   "outputs": [
    {
     "name": "stdout",
     "output_type": "stream",
     "text": [
      "               USR                                              TWEET LANG  \\\n",
      "0       Ruteeeeee_  RT @roomieofficial: Let me explain Bitcoin to ...   en   \n",
      "1           stuhu9  RT @ruppomanrup: #cryptocurrency Rupee $RUP - ...   en   \n",
      "2          JesiRok  RT @RciNext: Common Standards And Interoperabi...   en   \n",
      "3   alwaysonhiatus  @jamesdpitley @bccponzi So youâ€™re not invest...   en   \n",
      "4        PokerDeal  RT @symmetryfund: \"The only place where succes...   en   \n",
      "5  askwarrenbuffet  Sometime you have to unfollow people in real l...   en   \n",
      "6       misterpatr  RT @JuicyFruityyy: $100 BITCOIN GIVEAWAY!\\r\\n\\...   en   \n",
      "7   JR_ASeriousMan  RT @CryptoCobain: I believe Bitcoin will revis...   en   \n",
      "8  fireworksfluori  RT @earthtokens: VIDEO: #EARTH #Token &amp; th...   en   \n",
      "9       cris197513  RT @cris197513: Moon Bitcoin - The bitcoin fau...   en   \n",
      "\n",
      "       CLAS  \n",
      "0  Positivo  \n",
      "1  Positivo  \n",
      "2  Positivo  \n",
      "3  Positivo  \n",
      "4  Positivo  \n",
      "5  Positivo  \n",
      "6  Positivo  \n",
      "7  Positivo  \n",
      "8  Positivo  \n",
      "9  Positivo  \n",
      "               USR                                              TWEET LANG\n",
      "0       Ruteeeeee_  RT @roomieofficial: Let me explain Bitcoin to ...   en\n",
      "1           stuhu9  RT @ruppomanrup: #cryptocurrency Rupee $RUP - ...   en\n",
      "2          JesiRok  RT @RciNext: Common Standards And Interoperabi...   en\n",
      "3   alwaysonhiatus  @jamesdpitley @bccponzi So you’re not invested...   en\n",
      "4   derbomezvieira  RT @FUTEMENTALES: Boto o pal\\r\\nCompra e venda...   pt\n",
      "5        PokerDeal  RT @symmetryfund: \"The only place where succes...   en\n",
      "6  askwarrenbuffet  Sometime you have to unfollow people in real l...   en\n",
      "7       misterpatr  RT @JuicyFruityyy: $100 BITCOIN GIVEAWAY!\\r\\n\\...   en\n",
      "8   JR_ASeriousMan  RT @CryptoCobain: I believe Bitcoin will revis...   en\n",
      "9  fireworksfluori  RT @earthtokens: VIDEO: #EARTH #Token &amp; th...   en\n",
      "               USR                                              TWEET LANG  \\\n",
      "0       Ruteeeeee_  RT @roomieofficial: Let me explain Bitcoin to ...   en   \n",
      "1           stuhu9  RT @ruppomanrup: #cryptocurrency Rupee $RUP - ...   en   \n",
      "2          JesiRok  RT @RciNext: Common Standards And Interoperabi...   en   \n",
      "3   alwaysonhiatus  @jamesdpitley @bccponzi So you’re not invested...   en   \n",
      "4   derbomezvieira  RT @FUTEMENTALES: Boto o pal\\r\\nCompra e venda...   pt   \n",
      "5        PokerDeal  RT @symmetryfund: \"The only place where succes...   en   \n",
      "6  askwarrenbuffet  Sometime you have to unfollow people in real l...   en   \n",
      "7       misterpatr  RT @JuicyFruityyy: $100 BITCOIN GIVEAWAY!\\r\\n\\...   en   \n",
      "8   JR_ASeriousMan  RT @CryptoCobain: I believe Bitcoin will revis...   en   \n",
      "9  fireworksfluori  RT @earthtokens: VIDEO: #EARTH #Token &amp; th...   en   \n",
      "\n",
      "       CLAS  \n",
      "0  Positivo  \n",
      "1  Positivo  \n",
      "2  Positivo  \n",
      "3  Positivo  \n",
      "4  Positivo  \n",
      "5  Positivo  \n",
      "6  Positivo  \n",
      "7  Positivo  \n",
      "8  Positivo  \n",
      "9  Positivo  \n"
     ]
    }
   ],
   "source": [
    "print primeiro\n",
    "print segundo\n",
    "print terceiro"
   ]
  },
  {
   "cell_type": "code",
   "execution_count": null,
   "metadata": {
    "collapsed": true
   },
   "outputs": [],
   "source": []
  }
 ],
 "metadata": {
  "kernelspec": {
   "display_name": "Python 2",
   "language": "python",
   "name": "python2"
  },
  "language_info": {
   "codemirror_mode": {
    "name": "ipython",
    "version": 2
   },
   "file_extension": ".py",
   "mimetype": "text/x-python",
   "name": "python",
   "nbconvert_exporter": "python",
   "pygments_lexer": "ipython2",
   "version": "2.7.14"
  }
 },
 "nbformat": 4,
 "nbformat_minor": 2
}
