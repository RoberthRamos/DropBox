{
 "cells": [
  {
   "cell_type": "code",
   "execution_count": 1,
   "metadata": {
    "collapsed": true
   },
   "outputs": [],
   "source": [
    "import pandas as pd\n",
    "import numpy as np\n",
    "from sklearn.tree import DecisionTreeRegressor\n",
    "from sklearn.metrics import mean_absolute_error"
   ]
  },
  {
   "cell_type": "code",
   "execution_count": 2,
   "metadata": {
    "collapsed": true
   },
   "outputs": [],
   "source": [
    "data_q7 = pd.read_csv(\"reg02.csv\", sep=',', encoding='utf-8')"
   ]
  },
  {
   "cell_type": "code",
   "execution_count": 3,
   "metadata": {},
   "outputs": [
    {
     "name": "stdout",
     "output_type": "stream",
     "text": [
      "         x0        x1        x2        x3        x4        x5        x6  \\\n",
      "0 -0.640731  0.677929 -0.285153  0.469127  1.629361 -0.407575  0.677929   \n",
      "1 -1.257229  0.199883  0.369755  0.905828  2.199284  0.407064  0.199883   \n",
      "2 -1.351330 -0.159821 -0.667650 -0.067187  1.309160 -0.702359 -0.159821   \n",
      "3 -2.432787 -0.996849 -0.704290 -0.750186  1.066865 -0.082292 -0.996849   \n",
      "4 -1.475213 -0.318454 -0.682221 -0.151922  1.148624 -0.583869 -0.318454   \n",
      "\n",
      "         x7        x8        x9     ...           x11       x12       x13  \\\n",
      "0  0.781634 -0.132065 -0.125852     ...      0.469127  0.976612 -0.237673   \n",
      "1 -0.276165  0.136314 -0.835977     ...      0.905828  1.523959 -0.376705   \n",
      "2 -0.133427 -0.683428 -1.016574     ...     -0.067187  0.592357 -0.700500   \n",
      "3 -1.860141 -1.151661 -1.850721     ...     -0.750186  0.159958 -1.482334   \n",
      "4 -0.621999 -0.619677 -1.134553     ...     -0.151922  0.578886 -0.932404   \n",
      "\n",
      "        x14       x15       x16       x17       x18       x19      target  \n",
      "0  0.270627 -0.146189  0.976612  2.370730  0.783461  0.783461  238.342700  \n",
      "1  0.811498  0.053166  1.523959  1.807168 -0.095143 -0.095143   30.823609  \n",
      "2 -0.221701 -0.683485  0.592357  1.456616 -0.464433 -0.464433 -135.707090  \n",
      "3  0.538354 -1.391746  0.159958  0.603398 -1.372567 -1.372567 -579.983211  \n",
      "4 -0.025521 -0.436129  0.578886  1.341985 -0.803744 -0.803744 -250.729762  \n",
      "\n",
      "[5 rows x 21 columns]\n",
      "(1000, 21)\n"
     ]
    }
   ],
   "source": [
    "print(data_q7.head())\n",
    "print(data_q7.shape)"
   ]
  },
  {
   "cell_type": "code",
   "execution_count": 4,
   "metadata": {
    "collapsed": true
   },
   "outputs": [],
   "source": [
    "# Separando a lista de colunas de features e de target\n",
    "feature_cols = list(data_q7.columns[:-1])\n",
    "target_col = data_q7.columns[-1] \n",
    "\n",
    "# Separando os dados em atributos e variáveis-alvo (X_all e y_all, respectivamente)\n",
    "X_all = data_q7[feature_cols]\n",
    "y_all = data_q7[target_col]"
   ]
  },
  {
   "cell_type": "code",
   "execution_count": 5,
   "metadata": {
    "collapsed": true
   },
   "outputs": [],
   "source": [
    "clf = DecisionTreeRegressor() #criterion =”mse” por padrão"
   ]
  },
  {
   "cell_type": "code",
   "execution_count": 6,
   "metadata": {},
   "outputs": [
    {
     "name": "stdout",
     "output_type": "stream",
     "text": [
      "mean_absolute_error TREINO: 0.0\n",
      "MAE TREINO: 0.0\n",
      "\n",
      "mean_absolute_error TEST: 45.428499509\n",
      "MAE TEST: 45.428499509\n",
      "\n",
      "mean_absolute_error TREINO: 0.0\n",
      "MAE TREINO: 0.0\n",
      "\n",
      "mean_absolute_error TEST: 45.1864348303\n",
      "MAE TEST: 45.1864348303\n",
      "\n",
      "mean_absolute_error TREINO: 0.0\n",
      "MAE TREINO: 0.0\n",
      "\n",
      "mean_absolute_error TEST: 45.3630466297\n",
      "MAE TEST: 45.3630466297\n",
      "\n",
      "mean_absolute_error TREINO: 0.0\n",
      "MAE TREINO: 0.0\n",
      "\n",
      "mean_absolute_error TEST: 45.4949747073\n",
      "MAE TEST: 45.4949747073\n",
      "\n",
      "mean_absolute_error TREINO: 0.0\n",
      "MAE TREINO: 0.0\n",
      "\n",
      "mean_absolute_error TEST: 43.9460089898\n",
      "MAE TEST: 43.9460089898\n",
      "\n",
      "mean_absolute_error TREINO: 0.0\n",
      "MAE TREINO: 0.0\n",
      "\n",
      "mean_absolute_error TEST: 46.4841425872\n",
      "MAE TEST: 46.4841425872\n",
      "\n",
      "mean_absolute_error TREINO: 0.0\n",
      "MAE TREINO: 0.0\n",
      "\n",
      "mean_absolute_error TEST: 43.594088102\n",
      "MAE TEST: 43.594088102\n",
      "\n",
      "mean_absolute_error TREINO: 0.0\n",
      "MAE TREINO: 0.0\n",
      "\n",
      "mean_absolute_error TEST: 44.1606716964\n",
      "MAE TEST: 44.1606716964\n",
      "\n",
      "mean_absolute_error TREINO: 0.0\n",
      "MAE TREINO: 0.0\n",
      "\n",
      "mean_absolute_error TEST: 45.0445327834\n",
      "MAE TEST: 45.0445327834\n",
      "\n",
      "mean_absolute_error TREINO: 0.0\n",
      "MAE TREINO: 0.0\n",
      "\n",
      "mean_absolute_error TEST: 38.3838069524\n",
      "MAE TEST: 38.3838069524\n",
      "\n",
      "\n",
      "Resposta 7:\n",
      "K-fold. Qual o valor do Mean Absolute Error (MAE) para a base de treino? Qual o valor médio do MAE para a base de validação?\n",
      "\n",
      "O valor do MAE da base de Treino, para K-FOLD onde k = 10 é: 0.0\n",
      "O valor da MAE da base de Teste, para K-FOLD onde k = 10 é: 44.3086206787\n"
     ]
    }
   ],
   "source": [
    "# Separando os dados entre treino e teste, considerando K-Fold (k = 10 não estratificados)\n",
    "from sklearn.model_selection import KFold\n",
    "kf = KFold(n_splits=10)\n",
    "\n",
    "maes = pd.DataFrame(columns=['MAE_treino', 'MAE_teste'])\n",
    "\n",
    "for train_index, test_index in kf.split(X_all):\n",
    "    X_train, X_test = X_all.loc[train_index], X_all.loc[test_index]\n",
    "    y_train, y_test = y_all.loc[train_index], y_all.loc[test_index]\n",
    "    clf.fit(X_train, y_train) #treino\n",
    "    y_train_predict = clf.predict(X_train)\n",
    "    y_test_predict = clf.predict(X_test)\n",
    "    maes.loc[len(maes)] = [mean_absolute_error(y_train, y_train_predict),\n",
    "                             mean_absolute_error(y_test, y_test_predict)]\n",
    "    print(\"mean_absolute_error TREINO: {}\\nMAE TREINO: {}\\n\".format(mean_absolute_error(y_train, y_train_predict), mean_absolute_error(y_train, y_train_predict)))\n",
    "    print(\"mean_absolute_error TEST: {}\\nMAE TEST: {}\\n\".format(mean_absolute_error(y_test, y_test_predict), mean_absolute_error(y_test, y_test_predict)))\n",
    "\n",
    "mae_train = maes['MAE_treino'].mean()\n",
    "mae_test = maes['MAE_teste'].mean()\n",
    "\n",
    "\n",
    "print(\"\\nResposta 7:\\nK-fold. Qual o valor do Mean Absolute Error (MAE) para a base de treino? Qual o valor médio do MAE para a base de validação?\\n\")\n",
    "\n",
    "print(\"O valor do MAE da base de Treino, para K-FOLD onde k = 10 é: {}\".format(mae_train))\n",
    "print(\"O valor da MAE da base de Teste, para K-FOLD onde k = 10 é: {}\".format(mae_test))"
   ]
  },
  {
   "cell_type": "code",
   "execution_count": null,
   "metadata": {
    "collapsed": true
   },
   "outputs": [],
   "source": []
  }
 ],
 "metadata": {
  "kernelspec": {
   "display_name": "Python 2",
   "language": "python",
   "name": "python2"
  },
  "language_info": {
   "codemirror_mode": {
    "name": "ipython",
    "version": 2
   },
   "file_extension": ".py",
   "mimetype": "text/x-python",
   "name": "python",
   "nbconvert_exporter": "python",
   "pygments_lexer": "ipython2",
   "version": "2.7.14"
  }
 },
 "nbformat": 4,
 "nbformat_minor": 2
}
