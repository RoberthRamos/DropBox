{
 "cells": [
  {
   "cell_type": "code",
   "execution_count": 1,
   "metadata": {
    "collapsed": true
   },
   "outputs": [],
   "source": [
    "import pandas as pd\n",
    "import numpy as np\n",
    "from sklearn.cluster import KMeans"
   ]
  },
  {
   "cell_type": "code",
   "execution_count": 2,
   "metadata": {
    "collapsed": true
   },
   "outputs": [],
   "source": [
    "data_q1 = pd.read_csv(\"clus01.csv\", sep=',', encoding='utf-8')"
   ]
  },
  {
   "cell_type": "code",
   "execution_count": 3,
   "metadata": {},
   "outputs": [
    {
     "name": "stdout",
     "output_type": "stream",
     "text": [
      "         x0        x1        x2        x3\n",
      "0 -0.450370 -2.244377 -0.499678 -1.163607\n",
      "1  1.866159 -1.180407  1.898348 -1.072512\n",
      "2 -1.731385  0.248746  0.177045 -1.618708\n",
      "3 -2.211184 -0.066280  0.748191 -0.967796\n",
      "4  0.739455  1.762124  2.319210  2.080270\n",
      "(3000, 4)\n"
     ]
    }
   ],
   "source": [
    "print(data_q1.head())\n",
    "print(data_q1.shape)"
   ]
  },
  {
   "cell_type": "code",
   "execution_count": 4,
   "metadata": {},
   "outputs": [],
   "source": [
    "centroide = np.array([[1, 1, 1, 1], [-1, -1, -1, -1], [1, -1, 1, -1]])"
   ]
  },
  {
   "cell_type": "code",
   "execution_count": 5,
   "metadata": {},
   "outputs": [
    {
     "data": {
      "text/plain": [
       "KMeans(algorithm='auto', copy_x=True,\n",
       "    init=array([[ 1,  1,  1,  1],\n",
       "       [-1, -1, -1, -1],\n",
       "       [ 1, -1,  1, -1]]),\n",
       "    max_iter=10, n_clusters=3, n_init=1, n_jobs=1,\n",
       "    precompute_distances='auto', random_state=None, tol=0.0001, verbose=0)"
      ]
     },
     "execution_count": 5,
     "metadata": {},
     "output_type": "execute_result"
    }
   ],
   "source": [
    "clf = KMeans(n_clusters = 3, n_init = 1, init = centroide, max_iter = 10)\n",
    "clf.fit(data_q1)"
   ]
  },
  {
   "cell_type": "code",
   "execution_count": 6,
   "metadata": {},
   "outputs": [],
   "source": [
    "centroides = clf.cluster_centers_"
   ]
  },
  {
   "cell_type": "code",
   "execution_count": 7,
   "metadata": {},
   "outputs": [
    {
     "name": "stdout",
     "output_type": "stream",
     "text": [
      "\n",
      "Resposta 1:\n",
      "Qual é o posicionamento final de cada centroide após 10 iterações?\n",
      "\n",
      "Centroide 1: [ 1.01800532  1.02487255  0.99716299  1.02820958]\n",
      "Centroide 2: [-1.00267381 -1.04904824 -1.03936684 -1.01122186]\n",
      "Centroide 3: [ 1.01319407 -1.01061948  0.97309582 -0.99640045]\n"
     ]
    }
   ],
   "source": [
    "cont = 1\n",
    "print(\"\\nResposta 1:\\nQual é o posicionamento final de cada centroide após 10 iterações?\\n\")\n",
    "for i in centroides:\n",
    "    print(\"Centroide {}: {}\".format(cont, i))\n",
    "    cont = cont+1"
   ]
  },
  {
   "cell_type": "code",
   "execution_count": null,
   "metadata": {
    "collapsed": true
   },
   "outputs": [],
   "source": []
  }
 ],
 "metadata": {
  "kernelspec": {
   "display_name": "Python 3",
   "language": "python",
   "name": "python3"
  },
  "language_info": {
   "codemirror_mode": {
    "name": "ipython",
    "version": 3
   },
   "file_extension": ".py",
   "mimetype": "text/x-python",
   "name": "python",
   "nbconvert_exporter": "python",
   "pygments_lexer": "ipython3",
   "version": "3.6.3"
  }
 },
 "nbformat": 4,
 "nbformat_minor": 2
}
